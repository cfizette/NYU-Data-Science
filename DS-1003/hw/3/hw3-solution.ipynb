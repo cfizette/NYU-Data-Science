{
 "cells": [
  {
   "cell_type": "markdown",
   "metadata": {},
   "source": [
    "\n"
   ]
  },
  {
   "cell_type": "markdown",
   "metadata": {},
   "source": [
    "$\\newcommand\\reals{\\mathbf{R}}$\n",
    "$\\newcommand\\cd{\\mathcal{D}}$\n",
    "$\\newcommand\\ch{\\mathcal{H}}$"
   ]
  },
  {
   "cell_type": "markdown",
   "metadata": {},
   "source": [
    "# 2. Calculating Subgradients"
   ]
  },
  {
   "cell_type": "markdown",
   "metadata": {},
   "source": [
    "## 2.1\n",
    "Suppose $f_{1},\\ldots,f_{m}:\\reals^{d}\\to\\reals$\n",
    "are convex functions, and \n",
    "\\begin{align}\n",
    "f(x)=\\max_{i=1,\\ldots,,m}f_{i}(x).\n",
    "\\end{align}\n",
    "Let $k$ be any index for which $f_{k}(x)=f(x)$, and choose $g\\in\\partial f_{k}(x)$.\n",
    "Show that $g\\in\\partial f(x)$."
   ]
  },
  {
   "cell_type": "markdown",
   "metadata": {},
   "source": [
    "#### Proof:\n",
    "Since $g \\in\\partial f_k(x)$, we have,\n",
    "\n",
    "\\begin{align}\n",
    "f_k(x+v) &\\geq f_k(x) + g^Tv &&\\forall v\\in\\reals^d\n",
    "\\end{align}\n",
    "\n",
    "But \n",
    "\\begin{align}\n",
    "f(x) &= \\max_{i=1,\\ldots,,m}f_{i}(x)\\\\\n",
    "&\\geq f_{i}(x) && \\forall i=1,\\ldots,,m\n",
    "\\end{align}\n",
    "\n",
    "Thus $\\forall y\\in \\reals^d$, we have $f(y) \\geq f_k(y)$\n",
    "\n",
    "Now observe that\n",
    "\\begin{align}\n",
    "f(x+v) &\\geq f_k(x+v)\\\\\n",
    "&\\geq f_k(x) + g^Tv\\\\\n",
    "&= f(x) + g^Tv && \\text{since $f(x)=f_k(x)$}\n",
    "\\end{align}\n",
    "\n",
    "Thus $g\\in\\partial f(x)$."
   ]
  },
  {
   "cell_type": "markdown",
   "metadata": {},
   "source": [
    "\\newpage"
   ]
  },
  {
   "cell_type": "markdown",
   "metadata": {},
   "source": [
    "## 2.2\n",
    "Give a subgradient of $J(w)=\\max\\left\\{ 0,1-yw^{T}x\\right\\} .$\n"
   ]
  },
  {
   "cell_type": "markdown",
   "metadata": {},
   "source": [
    "From 2.1 we have\n",
    "\n",
    "\\begin{align}\n",
    "\\partial J(w) = \\begin{cases}\n",
    "-yx & yw^Tx \\leq 1\\\\\n",
    "0 & otherwise\n",
    "\\end{cases}\n",
    "\\end{align}"
   ]
  },
  {
   "cell_type": "markdown",
   "metadata": {},
   "source": [
    "\\newpage"
   ]
  },
  {
   "cell_type": "markdown",
   "metadata": {},
   "source": [
    "# 3. Perceptron"
   ]
  },
  {
   "cell_type": "markdown",
   "metadata": {},
   "source": [
    "## 3.1\n",
    "Show that if $\\left\\{ x\\mid w^{T}x=0\\right\\} $ is a separating hyperplane\n",
    "for a training set $\\cd=\\left(\\left(x_{1},y_{1}\\right),\\ldots,(x_{n},y_{n})\\right)$,\n",
    "then the average perceptron loss on $\\cd$ is $0$. Thus any separating\n",
    "hyperplane of $\\cd$ is an empirical risk minimizer for perceptron\n",
    "loss."
   ]
  },
  {
   "cell_type": "markdown",
   "metadata": {},
   "source": [
    "#### Proof\n",
    "\n",
    "Assume $\\{x\\, \\lvert\\, w^Tx=0\\}$ is a separating hyperplane. Then $y_iw^Tx_i > 0\\,\\, \\forall\\,\\, i \\in \\{1, \\ldots, n\\}$.\n",
    "\n",
    "Now observe that\n",
    "\n",
    "\\begin{align}\n",
    "\\text{Average perceptron loss} &= \\frac{1}{n} \\sum_{i=1}^n max\\{0, -\\hat{y_i}y_i\\}\\\\\n",
    "&= \\frac{1}{n} \\sum_{i=1}^n max\\{0, -y_iw^Tx_i\\}\\\\\n",
    "&= \\frac{1}{n} \\sum_{i=1}^n 0 && \\text{since $y_iw^Tx_i > 0$}\\\\\n",
    "&= 0\n",
    "\\end{align}"
   ]
  },
  {
   "cell_type": "markdown",
   "metadata": {},
   "source": [
    "\\newpage"
   ]
  },
  {
   "cell_type": "markdown",
   "metadata": {},
   "source": [
    "## 3.2\n",
    "Let $\\ch$ be the linear hypothesis space consisting of functions\n",
    "$x\\mapsto w^{T}x$. Consider running stochastic subgradient descent\n",
    "(SSGD) to minimize the empirical risk with the perceptron loss. We'll\n",
    "use the version of SSGD in which we cycle through the data points\n",
    "in each epoch. Show that if we use a fixed step size $1$, we terminate\n",
    "when our training data are separated, and we make the right choice\n",
    "of subgradient,  then we are exactly doing the Perceptron algorithm."
   ]
  },
  {
   "cell_type": "markdown",
   "metadata": {},
   "source": [
    "By 2.1 we have $ \\partial l(\\hat{y},y) = \\begin{cases}\n",
    "-yx & yw^Tx < 0\\\\\n",
    "0 & otherwise\n",
    "\\end{cases}$\n",
    "\n",
    "With this choice of subgradient and a step size of 1 we can see that the update step is $w^{(k+1)} = \\begin{cases}\n",
    "w^{(k)} + y_ix_i & y_iw^Tx_i < 0\\\\\n",
    "w^{(k)} & otherwise\n",
    "\\end{cases}$.\n",
    "\n",
    "Note that this is precisely the update step in the perceptron algorithm.\n",
    "\n",
    "Now for the terminating conditions.\n",
    "\n",
    "Note that when the training data is separated, we have $y_iw^Tx_i > 0\\,\\, \\forall\\,\\, i \\in \\{1, \\ldots, n\\}$. In the perceptron algorithm this will result in all_correct = True and termination of that algorithm. Thus the terminating conditions are equivalent."
   ]
  },
  {
   "cell_type": "markdown",
   "metadata": {},
   "source": [
    "\\newpage"
   ]
  },
  {
   "cell_type": "markdown",
   "metadata": {},
   "source": [
    "## 3.3\n",
    "Suppose the perceptron algorithm returns $w$. Show that $w$ is a\n",
    "linear combination of the input points. That is, we can write $w=\\sum_{i=1}^{n}\\alpha_{i}x_{i}$\n",
    "for some $\\alpha_{1},\\ldots,\\alpha_{n}\\in\\reals$. The $x_{i}$ for\n",
    "which $\\alpha_{i}\\neq0$ are called support vectors. Give a characterization\n",
    "of points that are support vectors and not support vectors."
   ]
  },
  {
   "cell_type": "markdown",
   "metadata": {},
   "source": [
    "From 3.2 we have that the update step is $w^{(k+1)} = \\begin{cases}\n",
    "w^{(k)} + y_ix_i & y_iw^Tx_i < 0\\\\\n",
    "w^{(k)} & otherwise\n",
    "\\end{cases}$.\n",
    "\n",
    "Then since $w^{(0)}=0$ and $y_i \\in \\{-1,1\\}$ it follows that can write $w=\\sum_{i=1}^{n}\\alpha_{i}x_{i}$\n",
    "for some $\\alpha_{1},\\ldots,\\alpha_{n}\\in\\reals$.\n",
    "\n",
    "The support vectors are vectors that were misclassified at some point during the optimization. When this happens, $y_iw^Tx_i < 0$ which results in $w^{(k+1)} = w^{(k)} + y_ix_i$ and so $\\alpha_{i}\\neq0$."
   ]
  },
  {
   "cell_type": "markdown",
   "metadata": {},
   "source": [
    "\\newpage"
   ]
  },
  {
   "cell_type": "markdown",
   "metadata": {},
   "source": [
    "# 4. The Data"
   ]
  },
  {
   "cell_type": "markdown",
   "metadata": {},
   "source": [
    "## 4.1\n",
    "Load all the data and randomly split it into 1500 training examples and 500 validation examples."
   ]
  },
  {
   "cell_type": "code",
   "execution_count": 27,
   "metadata": {},
   "outputs": [],
   "source": [
    "from load import shuffle_data\n",
    "from sklearn.model_selection import train_test_split\n",
    "\n",
    "# I added a return statement to shuffle_data\n",
    "data = shuffle_data()\n",
    "train, val = train_test_split(data, train_size=1500, test_size=500)\n",
    "x_train = [l[:-1] for l in train ]\n",
    "y_train = [l[-1] for l in train]\n",
    "x_val = [l[:-1] for l in val ]\n",
    "y_val = [l[-1] for l in val]"
   ]
  },
  {
   "cell_type": "markdown",
   "metadata": {},
   "source": [
    "\\newpage"
   ]
  },
  {
   "cell_type": "markdown",
   "metadata": {},
   "source": [
    "# 5. Sparse Representations"
   ]
  },
  {
   "cell_type": "markdown",
   "metadata": {},
   "source": [
    "## 5.1\n",
    "Write a function that converts an example (e.g. a list of words) into a sparse bag-of-words\n",
    "representation."
   ]
  },
  {
   "cell_type": "code",
   "execution_count": 13,
   "metadata": {},
   "outputs": [],
   "source": [
    "from collections import Counter\n",
    "\n",
    "def to_sparse(word_list):\n",
    "    return Counter(word_list)"
   ]
  },
  {
   "cell_type": "markdown",
   "metadata": {},
   "source": [
    "\\newpage"
   ]
  },
  {
   "cell_type": "markdown",
   "metadata": {},
   "source": [
    "# 6. Support Vector Machine via Pegasos"
   ]
  },
  {
   "cell_type": "markdown",
   "metadata": {},
   "source": [
    "## 6.1\n",
    "Consider the ``stochastic'' SVM objective function,\n",
    "which is the SVM objective function with a single training point\\footnote{Recall that if $i$ is selected uniformly from the set $\\left\\{ 1,\\ldots,m\\right\\} $,\n",
    "then this stochastic objective function has the same expected value\n",
    "as the full SVM objective function.}: $J_{i}(w)=\\frac{\\lambda}{2}\\|w\\|^{2}+\\max\\left\\{ 0,1-y_{i}w^{T}x_{i}\\right\\} $.\n",
    "The function $J_{i}(\\theta)$ is not differentiable everywhere. Give\n",
    "an expression for the gradient of $J_{i}(w)$ where it's defined,\n",
    "and specify where it is not defined."
   ]
  },
  {
   "cell_type": "markdown",
   "metadata": {},
   "source": [
    "#### Solution\n",
    "$\\nabla J_i(w) = \\begin{cases}\n",
    "\\lambda w -y_ix_i & y_iw^Tx_i < 1\\\\\n",
    "\\lambda w & y_iw^Tx_i > 1\\\\\n",
    "undefined & y_iw^Tx_i = 1\n",
    "\\end{cases}$"
   ]
  },
  {
   "cell_type": "markdown",
   "metadata": {},
   "source": [
    "\\newpage"
   ]
  },
  {
   "cell_type": "markdown",
   "metadata": {},
   "source": [
    "## 6.2 \n",
    "Show that a subgradient of $J_{i}(w)$ is given by \n",
    "\\begin{eqnarray*}\n",
    "g & = & \\begin{cases}\n",
    "\\lambda w-y_{i}x_{i} & \\mbox{for }y_{i}w^{T}x_{i}<1\\\\\n",
    "\\lambda w & \\mbox{for }y_{i}w^{T}x_{i}\\ge1.\n",
    "\\end{cases}\n",
    "\\end{eqnarray*}\n",
    "You may use the following facts without proof: 1) If $f_{1},\\ldots,f_{m}:\\reals^{d}\\to\\reals$\n",
    "are convex functions and $f=f_{1}+\\cdots+f_{m}$, then $\\partial f(x)=\\partial f_{1}(x)+\\cdots+\\partial f_{m}(x)$.\n",
    "2) For $\\alpha\\ge0$, $\\partial\\left(\\alpha f\\right)(x)=\\alpha\\partial f(x)$."
   ]
  },
  {
   "cell_type": "markdown",
   "metadata": {},
   "source": [
    "#### Solution\n",
    "\n",
    "Let $ f_1(w) = \\frac{\\lambda}{2} \\Vert w\\Vert^2$ and $ f_2(w) = max \\{0,1-y_iw^Tx_i\\}$. Note that $J_i(w) = f_1(w) + f_2(w)$.\n",
    "\n",
    "Now $\\partial f_1(w) = \\lambda w$.\n",
    "\n",
    "From the results of question 2.1 we also have $ \\partial f_2(w) = \\begin{cases}\n",
    "-y_{i}x_{i} & \\mbox{for }y_{i}w^{T}x_{i}<1\\\\\n",
    "0 &\\mbox{for }y_{i}w^{T}x_{i}\\ge1.\n",
    "\\end{cases}$\n",
    "\n",
    "Then from fact 1 we can conclude that $g = \\begin{cases}\n",
    "\\lambda w-y_{i}x_{i} & \\mbox{for }y_{i}w^{T}x_{i}<1\\\\\n",
    "\\lambda w & \\mbox{for }y_{i}w^{T}x_{i}\\ge1.\n",
    "\\end{cases}$\n",
    "\n",
    "\n",
    "\n"
   ]
  },
  {
   "cell_type": "markdown",
   "metadata": {},
   "source": [
    "\\newpage"
   ]
  },
  {
   "cell_type": "markdown",
   "metadata": {},
   "source": [
    "## 6.3\n",
    "Show that if your step size rule is $\\eta_{t}=1/\\left(\\lambda t\\right)$,\n",
    "then doing SGD with the subgradient direction from the previous problem\n",
    "is the same as given in the pseudocode."
   ]
  },
  {
   "cell_type": "markdown",
   "metadata": {},
   "source": [
    "#### Solution\n",
    "\n",
    "Observe that \n",
    "\\begin{align}\n",
    "w_{t+1} &= w_t - \\eta_t g(w_t) \\\\\n",
    "&= \\begin{cases}\n",
    "w_t - \\eta_t\\lambda w_t+\\eta_t y_{i}x_{i} & \\mbox{for }y_{i}w_t^{T}x_{i}<1\\\\\n",
    "w_t - \\eta_t\\lambda w_t & \\mbox{for }y_{i}w_t^{T}x_{i}\\ge1.\n",
    "\\end{cases}\\\\\n",
    "&= \\begin{cases}\n",
    "w_t(1 - \\eta_t)+\\eta_t y_{i}x_{i} & \\mbox{for }y_{i}w_t^{T}x_{i}<1\\\\\n",
    "w_t(1 - \\eta_t) & \\mbox{for }y_{i}w_t^{T}x_{i}\\ge1.\n",
    "\\end{cases}\n",
    "\\end{align}\n",
    "\n",
    "This is equivalent to the update step in the Pegasos algorithm."
   ]
  },
  {
   "cell_type": "markdown",
   "metadata": {},
   "source": [
    "\\newpage"
   ]
  },
  {
   "cell_type": "markdown",
   "metadata": {},
   "source": [
    "### 6.4\n",
    "Implement the Pegasos algorithm to run on a sparse data representation."
   ]
  },
  {
   "cell_type": "code",
   "execution_count": 44,
   "metadata": {},
   "outputs": [],
   "source": [
    "def sparse_multiply(c, x):\n",
    "    # multiply values in dictionary x by scaler c\n",
    "    # we'll use counters to be consistent\n",
    "    out = Counter()\n",
    "    for k, v in x.items():\n",
    "        out[k] = c*v\n",
    "    return out"
   ]
  },
  {
   "cell_type": "code",
   "execution_count": 65,
   "metadata": {},
   "outputs": [],
   "source": [
    "from util import dotProduct, increment\n",
    "\n",
    "def pegasos_svm(x, y, lambda_reg, n_epochs=10):\n",
    "    t=0\n",
    "    w = Counter()\n",
    "    for epoch in range(n_epochs):\n",
    "        for x_i, y_i in zip(x, y):\n",
    "            t += 1\n",
    "            eta = 1/(t*lambda_reg)\n",
    "            scale = (1 - eta * lambda_reg)\n",
    "            # Rescale w\n",
    "            for k, v in w.items():\n",
    "                w[k] = scale * v              \n",
    "            # Apply gradient if needed\n",
    "            if y_i * dotProduct(w, x_i) < 1:\n",
    "                support_grad = sparse_multiply(eta * y_i, x_i)\n",
    "                increment(w, 1, support_grad)\n",
    "    return w"
   ]
  },
  {
   "cell_type": "markdown",
   "metadata": {},
   "source": [
    "\\newpage"
   ]
  },
  {
   "cell_type": "markdown",
   "metadata": {},
   "source": [
    "## 6.5 \n",
    "\n",
    "### 6.5.1\n",
    "Verify that the Pegasos update step is equivalent to:\n",
    "\\begin{eqnarray*}\n",
    "s_{t+1} & = & \\left(1-\\eta_{t}\\lambda\\right)s_{t}\\\\\n",
    "W_{t+1} & = & W_{t}+\\frac{1}{s_{t+1}}\\eta_{t}y_{j}x_{j}.\n",
    "\\end{eqnarray*}\n",
    "\n",
    "Where $s_{t+1}=\\left(1-\\eta_{t}\\lambda\\right)s_{t}$"
   ]
  },
  {
   "cell_type": "markdown",
   "metadata": {},
   "source": [
    "#### Proof\n",
    "Observe that\n",
    "\n",
    "\\begin{align}\n",
    "w_{t+1} &= s_{t+1}W_{t+1} \\\\\n",
    "&= s_{t+1} \\left( W_t + \\frac{1}{s_{t+1}}\\eta_t y_j x_j \\right) \\\\\n",
    "&= s_{t+1}W_t + \\eta_t y_j x_j\\\\\n",
    "&= (1-\\eta_t \\lambda)s_tW_t + \\eta_t y_j x_j\\\\\n",
    "&= (1-\\eta_t \\lambda)w_t + \\eta_t y_j x_j\n",
    "\\end{align}\n",
    "\n",
    "This is the same as the update step in the Pegasos algorithm."
   ]
  },
  {
   "cell_type": "markdown",
   "metadata": {},
   "source": [
    "\\newpage"
   ]
  },
  {
   "cell_type": "markdown",
   "metadata": {},
   "source": [
    "### 6.5.2\n",
    "\n",
    "Implement the Pegasos algorithm with the $(s,W)$ representation described above."
   ]
  },
  {
   "cell_type": "code",
   "execution_count": 69,
   "metadata": {},
   "outputs": [],
   "source": [
    "def pegasos_svm_modified(x, y, lambda_reg, n_epochs=10):\n",
    "    t = 1\n",
    "    s = 1\n",
    "    W = Counter()\n",
    "    for epoch in range(n_epochs):\n",
    "        for x_i, y_i in zip(x, y):\n",
    "            t += 1\n",
    "            eta = 1/(t*lambda_reg)\n",
    "            s = (1 - eta * lambda_reg) * s\n",
    "            if y_i * s * dotProduct(W, x_i) < 1:\n",
    "                support_grad = sparse_multiply(eta * y_i, x_i)\n",
    "                increment(W, 1/s, support_grad)\n",
    "    return sparse_multiply(s,W)"
   ]
  },
  {
   "cell_type": "markdown",
   "metadata": {},
   "source": [
    "\\newpage"
   ]
  },
  {
   "cell_type": "markdown",
   "metadata": {},
   "source": [
    "## 6.6\n",
    "Run both implementations of Pegasos on the training data for a couple epochs (using the\n",
    "bag-of-words feature representation described above). Make sure your implementations are\n",
    "correct by verifying that the two approaches give essentially the same result. Report on the\n",
    "time taken to run each approach."
   ]
  },
  {
   "cell_type": "code",
   "execution_count": 31,
   "metadata": {},
   "outputs": [],
   "source": [
    "x_train_sparse = [to_sparse(x) for x in x_train]\n",
    "x_val_sparse = [to_sparse(x) for x in x_val]"
   ]
  },
  {
   "cell_type": "code",
   "execution_count": 96,
   "metadata": {},
   "outputs": [
    {
     "name": "stdout",
     "output_type": "stream",
     "text": [
      "Standard algorithm took 20.150097092962824 seconds to complete 2 epochs\n",
      "Modified algorithm took 0.5985467850696295 seconds to complete 2 epochs\n"
     ]
    }
   ],
   "source": [
    "from timeit import default_timer as timer\n",
    "\n",
    "n_epochs = 2\n",
    "lambda_reg = 1\n",
    "\n",
    "start = timer()\n",
    "w1 = pegasos_svm(x_train_sparse, y_train, lambda_reg, n_epochs)\n",
    "end = timer()\n",
    "delta_t = end-start\n",
    "print(\"Standard algorithm took {} seconds to complete {} epochs\".format(delta_t, n_epochs))\n",
    "\n",
    "start = timer()\n",
    "w2 = pegasos_svm_modified(x_train_sparse, y_train, lambda_reg, n_epochs)\n",
    "end = timer()\n",
    "delta_t = end-start\n",
    "print(\"Modified algorithm took {} seconds to complete {} epochs\".format(delta_t, n_epochs))"
   ]
  },
  {
   "cell_type": "code",
   "execution_count": 91,
   "metadata": {},
   "outputs": [
    {
     "name": "stdout",
     "output_type": "stream",
     "text": [
      "[0.0013333333333333372, -0.012999999999999979, -0.00133333333333333]\n",
      "[0.001332889036987675, -0.012995668110629811, -0.0013328890369876678]\n"
     ]
    }
   ],
   "source": [
    "# Check for similar results\n",
    "w1_values = list(w1.values())\n",
    "w2_values = list(w2.values())\n",
    "print(w1_values[:3])\n",
    "print(w2_values[:3])"
   ]
  },
  {
   "cell_type": "markdown",
   "metadata": {},
   "source": [
    "\\newpage"
   ]
  },
  {
   "cell_type": "markdown",
   "metadata": {},
   "source": [
    "## 6.7\n",
    "Write a function that takes a sparse weight vector $w$ and a collection\n",
    "of $(x,y)$ pairs, and returns the percent error when predicting $y$\n",
    "using $sign(w^{T}x)$. In other words, the function reports the 0-1\n",
    "loss of the linear predictor $x\\mapsto w^{T}x$."
   ]
  },
  {
   "cell_type": "code",
   "execution_count": 100,
   "metadata": {},
   "outputs": [],
   "source": [
    "def percent_error(x, y, w):\n",
    "    n_wrong = 0\n",
    "    for x_, y_ in zip(x,y):\n",
    "        y_pred = dotProduct(x_,w)\n",
    "        if y_pred * y_ < 0:\n",
    "            n_wrong += 1\n",
    "    return n_wrong / len(y)"
   ]
  },
  {
   "cell_type": "markdown",
   "metadata": {},
   "source": [
    "\\newpage"
   ]
  },
  {
   "cell_type": "markdown",
   "metadata": {},
   "source": [
    "## 6.8\n",
    "Using the bag-of-words feature representation described above, search\n",
    "for the regularization parameter that gives the minimal percent error\n",
    "on your test set. (You should now use your faster Pegasos implementation,\n",
    "and run it to convergence.) A good search strategy is to start with\n",
    "a set of regularization parameters spanning a broad range of orders\n",
    "of magnitude. Then, continue to zoom in until you're convinced that\n",
    "additional search will not significantly improve your test performance.\n",
    "Once you have a sense of the general range of regularization parameters\n",
    "that give good results, you do not have to search over orders of magnitude\n",
    "every time you change something (such as adding a new feature)"
   ]
  },
  {
   "cell_type": "code",
   "execution_count": 165,
   "metadata": {},
   "outputs": [],
   "source": [
    "from tqdm import tqdm\n",
    "import matplotlib.pyplot as plt\n",
    "import matplotlib\n",
    "matplotlib.rcParams['figure.figsize'] = [15, 10]"
   ]
  },
  {
   "cell_type": "code",
   "execution_count": 117,
   "metadata": {},
   "outputs": [
    {
     "name": "stderr",
     "output_type": "stream",
     "text": [
      "100%|██████████| 6/6 [22:46<00:00, 269.07s/it]\n"
     ]
    }
   ],
   "source": [
    "lambdas = [1e-5, 1e-3, 1e-2, 1e-1, 1, 5]\n",
    "errors = []\n",
    "\n",
    "for l in tqdm(lambdas):\n",
    "    w = pegasos_svm_modified(x_train_sparse, y_train, l, n_epochs=1000) \n",
    "    errors.append(percent_error(x_val_sparse, y_val, w))"
   ]
  },
  {
   "cell_type": "code",
   "execution_count": 118,
   "metadata": {},
   "outputs": [
    {
     "data": {
      "image/png": "[encoded data removed]",
      "text/plain": [
       "<Figure size 432x288 with 1 Axes>"
      ]
     },
     "metadata": {
      "needs_background": "light"
     },
     "output_type": "display_data"
    }
   ],
   "source": [
    "plt.plot(lambdas, errors)\n",
    "plt.xscale('log')"
   ]
  },
  {
   "cell_type": "code",
   "execution_count": 119,
   "metadata": {},
   "outputs": [
    {
     "name": "stderr",
     "output_type": "stream",
     "text": [
      "100%|██████████| 10/10 [1:40:36<00:00, 647.60s/it]\n"
     ]
    }
   ],
   "source": [
    "lambdas = np.linspace(0.1, 2, 10)\n",
    "errors = []\n",
    "\n",
    "for l in tqdm(lambdas):\n",
    "    w = pegasos_svm_modified(x_train_sparse, y_train, l, n_epochs=1000)\n",
    "    errors.append(percent_error(x_val_sparse, y_val, w))"
   ]
  },
  {
   "cell_type": "code",
   "execution_count": 121,
   "metadata": {},
   "outputs": [
    {
     "data": {
      "image/png": "[encoded data removed]",
      "text/plain": [
       "<Figure size 432x288 with 1 Axes>"
      ]
     },
     "metadata": {
      "needs_background": "light"
     },
     "output_type": "display_data"
    }
   ],
   "source": [
    "plt.plot(lambdas, errors)\n",
    "plt.xscale('log')"
   ]
  },
  {
   "cell_type": "code",
   "execution_count": 130,
   "metadata": {},
   "outputs": [
    {
     "name": "stdout",
     "output_type": "stream",
     "text": [
      "The best value of lambda is 0.7333333333333333 with a validation error of 0.164\n"
     ]
    }
   ],
   "source": [
    "best_lambda = lambdas[np.argmin(errors)]\n",
    "w = pegasos_svm_modified(x_train_sparse, y_train, best_lambda, n_epochs=1000)\n",
    "print(\"The best value of lambda is {} with a validation error of {}\".format(best_lambda, min(errors)))"
   ]
  },
  {
   "cell_type": "markdown",
   "metadata": {},
   "source": [
    "\\newpage"
   ]
  },
  {
   "cell_type": "markdown",
   "metadata": {},
   "source": [
    "## 6.9\n",
    "Recall that the ``score'' is the value of the prediction\n",
    "$f(x)=w^{T}x$. We like to think that the magnitude of the score represents\n",
    "the confidence of the prediction. This is something we can directly\n",
    "verify or refute. Break the predictions into groups based on the score\n",
    "(you can play with the size of the groups to get a result you think\n",
    "is informative). For each group, examine the percentage error. You\n",
    "can make a table or graph. Summarize the results. Is there a correlation\n",
    "between higher magnitude scores and accuracy?"
   ]
  },
  {
   "cell_type": "code",
   "execution_count": 134,
   "metadata": {},
   "outputs": [
    {
     "data": {
      "image/png": "[encoded data removed]",
      "text/plain": [
       "<Figure size 432x288 with 1 Axes>"
      ]
     },
     "metadata": {
      "needs_background": "light"
     },
     "output_type": "display_data"
    }
   ],
   "source": [
    "# First lets look at the range of predicted values\n",
    "ax = plt.hist(y_pred)"
   ]
  },
  {
   "cell_type": "code",
   "execution_count": 170,
   "metadata": {},
   "outputs": [],
   "source": [
    "from sklearn.metrics import accuracy_score\n",
    "\n",
    "def standard_error(y, y_pred):\n",
    "    p = accuracy_score(y, y_pred)\n",
    "    n = len(y)\n",
    "    return np.sqrt(p*(1-p)/n)\n",
    "\n",
    "# Try with splitting into 3 groups\n",
    "# |y| < 1\n",
    "# 1 < |y| < 2\n",
    "# |y| > 2\n",
    "\n",
    "score = np.array([dotProduct(w, x) for x in x_val_sparse])\n",
    "score_mag = np.abs(score)\n",
    "\n",
    "idx_1 = np.argwhere(score_mag < 1)\n",
    "idx_2 = np.argwhere((score_mag > 1) & (score_mag < 2))\n",
    "idx_3 = np.argwhere(score_mag > 2)\n",
    "\n",
    "y_pred_1 = np.sign(score[idx_1])\n",
    "y_pred_2 = np.sign(score[idx_2])\n",
    "y_pred_3 = np.sign(score[idx_3])\n",
    "y_preds = [y_pred_1, y_pred_2, y_pred_3]\n",
    "\n",
    "y_1 = np.array(y_val)[idx_1]\n",
    "y_2 = np.array(y_val)[idx_2]\n",
    "y_3 = np.array(y_val)[idx_3]\n",
    "y_trues = [y_1, y_2, y_3]\n",
    "\n",
    "accuracies = [accuracy_score(y_pred, y_true) for y_pred, y_true in zip(y_preds, y_trues)]\n",
    "errors = [standard_error(y_pred, y_true) for y_pred, y_true in zip(y_preds, y_trues)]"
   ]
  },
  {
   "cell_type": "code",
   "execution_count": 172,
   "metadata": {},
   "outputs": [
    {
     "data": {
      "image/png": "[encoded data removed]",
      "text/plain": [
       "<Figure size 1080x720 with 1 Axes>"
      ]
     },
     "metadata": {
      "needs_background": "light"
     },
     "output_type": "display_data"
    }
   ],
   "source": [
    "ax = plt.bar([\"|y| < 1\", \"1 < |y| < 2\", \"|y| > 2\"], accuracies, yerr=errors)\n",
    "_ = plt.ylim(0.6,1.2)"
   ]
  },
  {
   "cell_type": "markdown",
   "metadata": {},
   "source": [
    "There appears to be some correlation between the score magnitude and the accurace of the predictions."
   ]
  },
  {
   "cell_type": "markdown",
   "metadata": {},
   "source": [
    "\\newpage"
   ]
  },
  {
   "cell_type": "markdown",
   "metadata": {},
   "source": [
    "## 6.10\n",
    "### TODO"
   ]
  },
  {
   "cell_type": "markdown",
   "metadata": {},
   "source": [
    "\\newpage"
   ]
  },
  {
   "cell_type": "markdown",
   "metadata": {},
   "source": [
    "# 8 Features"
   ]
  },
  {
   "cell_type": "markdown",
   "metadata": {},
   "source": [
    "## 8.1\n",
    "Investigate the feature importances of two misclasified points."
   ]
  },
  {
   "cell_type": "code",
   "execution_count": 201,
   "metadata": {},
   "outputs": [],
   "source": [
    "import pandas as pd\n",
    "\n",
    "def get_feature_importances(x, w):\n",
    "    # Get the feature weights of features in x soreted by magnitude\n",
    "    features = [(word, count*w[word]) for word, count in x.items()]\n",
    "    sorted_features = sorted(features, key=lambda x: np.abs(x[1]), reverse=True)\n",
    "    return pd.DataFrame(sorted_features)"
   ]
  },
  {
   "cell_type": "code",
   "execution_count": 190,
   "metadata": {},
   "outputs": [],
   "source": [
    "y_pred = np.sign(score)\n",
    "incorrect_examples = np.array(x_val_sparse)[y_val != y_pred]\n",
    "incorrect_examples_raw = np.array(x_val)[y_val != y_pred]\n",
    "y_true_incorrect = np.array(y_val)[y_val != y_pred]"
   ]
  },
  {
   "cell_type": "markdown",
   "metadata": {},
   "source": [
    "#### First example"
   ]
  },
  {
   "cell_type": "code",
   "execution_count": 202,
   "metadata": {},
   "outputs": [
    {
     "name": "stdout",
     "output_type": "stream",
     "text": [
      "True label was -1\n"
     ]
    },
    {
     "data": {
      "text/html": [
       "<div>\n",
       "<style scoped>\n",
       "    .dataframe tbody tr th:only-of-type {\n",
       "        vertical-align: middle;\n",
       "    }\n",
       "\n",
       "    .dataframe tbody tr th {\n",
       "        vertical-align: top;\n",
       "    }\n",
       "\n",
       "    .dataframe thead th {\n",
       "        text-align: right;\n",
       "    }\n",
       "</style>\n",
       "<table border=\"1\" class=\"dataframe\">\n",
       "  <thead>\n",
       "    <tr style=\"text-align: right;\">\n",
       "      <th></th>\n",
       "      <th>0</th>\n",
       "      <th>1</th>\n",
       "    </tr>\n",
       "  </thead>\n",
       "  <tbody>\n",
       "    <tr>\n",
       "      <th>0</th>\n",
       "      <td>and</td>\n",
       "      <td>0.329479</td>\n",
       "    </tr>\n",
       "    <tr>\n",
       "      <th>1</th>\n",
       "      <td>to</td>\n",
       "      <td>-0.246941</td>\n",
       "    </tr>\n",
       "    <tr>\n",
       "      <th>2</th>\n",
       "      <td>is</td>\n",
       "      <td>0.198787</td>\n",
       "    </tr>\n",
       "    <tr>\n",
       "      <th>3</th>\n",
       "      <td>be</td>\n",
       "      <td>-0.167227</td>\n",
       "    </tr>\n",
       "    <tr>\n",
       "      <th>4</th>\n",
       "      <td>very</td>\n",
       "      <td>0.160676</td>\n",
       "    </tr>\n",
       "    <tr>\n",
       "      <th>5</th>\n",
       "      <td>with</td>\n",
       "      <td>0.142685</td>\n",
       "    </tr>\n",
       "    <tr>\n",
       "      <th>6</th>\n",
       "      <td>many</td>\n",
       "      <td>0.121658</td>\n",
       "    </tr>\n",
       "    <tr>\n",
       "      <th>7</th>\n",
       "      <td>even</td>\n",
       "      <td>-0.106560</td>\n",
       "    </tr>\n",
       "    <tr>\n",
       "      <th>8</th>\n",
       "      <td>the</td>\n",
       "      <td>0.101324</td>\n",
       "    </tr>\n",
       "    <tr>\n",
       "      <th>9</th>\n",
       "      <td>on</td>\n",
       "      <td>-0.093114</td>\n",
       "    </tr>\n",
       "  </tbody>\n",
       "</table>\n",
       "</div>"
      ],
      "text/plain": [
       "      0         1\n",
       "0   and  0.329479\n",
       "1    to -0.246941\n",
       "2    is  0.198787\n",
       "3    be -0.167227\n",
       "4  very  0.160676\n",
       "5  with  0.142685\n",
       "6  many  0.121658\n",
       "7  even -0.106560\n",
       "8   the  0.101324\n",
       "9    on -0.093114"
      ]
     },
     "execution_count": 202,
     "metadata": {},
     "output_type": "execute_result"
    }
   ],
   "source": [
    "feature_importances_1 = get_feature_importances(incorrect_examples[0], w)\n",
    "print(\"True label was {}\".format(y_true_incorrect[0]))\n",
    "feature_importances_1[:10]"
   ]
  },
  {
   "cell_type": "code",
   "execution_count": 197,
   "metadata": {},
   "outputs": [
    {
     "name": "stdout",
     "output_type": "stream",
     "text": [
      "in 1970s many european intellectuals especially those on the left political hemisphere became obsessed with the rise of fascism which wasn't so hard to expect because the social turmoil of 1960s and economic decline of 1970s seemed to be the breeding ground for many dangerous ideologies in such times when political involvement could be associated with noble passion many filmmakers tried to warn the present generations of dangers that lurk ahead by giving the look of prewar europe and circumstances that led to phenomena like fascist italy and nazi germany of course there were authors who jumped on the bandwagon for other less noble reasons for them moral depravity of fascism could be explained to the audience by explicitly showing sexual depravity of those era which naturally made some of those films very popular among teen audience one of such filmmakers was italian director tinto brass who later made career shooting expensive stylish soft porn salon kitty his 1976 film is very losely based on the novel by peter nordern book that deals with bizarre yet true story that took place in the first years of ww2 in 1939 walter schellenberg one of the heads of nazi intelligence service has set up the elite exclusive brothel in berlin with clientele comprised of top nazi officials and foreign diplomats none of the customers knew that the girls were all nazi agents and that all the rooms happened to be bugged the most bizarre thing is the fact that not even kitty nominal madame of the brothel didn't know the real purpose of that enterprise screenplay by tinto brass of course simplifies the story and changes few names schellenberg is now wallenberg helmut berger ambitious nazi official who wants to use the brothel in order to blackmail his way to the top kitty kellerman ingrid thulin apart from being madam has a second job as a cabaret singer caught in the net of depravity is sweet innocent girl margerithe theresa ann savoy thrown into brothel there she falls in love with customer hans reiter bekim fehmiu disenchanted pilot of luftwaffe when margerithe discovers that her lover had been executed for defeatist speeches he made in the brothel she finds out that the place is bugged she informs the madam of the real situation and both women decide to confront wallenberg those who tend to bash benigni for exploiting holocaust as the topic of comedy would probably go bananas watching this film that uses the darkest pages of european history for cheap sexploitation but although salon kitty doesn't happen to be anything more than rather more stylish and expensive soft porn although not very successful some of supposedly erotic scenes are quite unappealing it does try to have more multidimensional characters and even something resembling dramatic conflict this time between powerhungry and scruples wallenberg and hedonistic womanhood symbolised by kitty unfortunately brass seems to overuse other cinematical references probably thinking that he could repeat the successful interaction of berger and thulin in luchino visconti's the damned but the most noticeable and irritating is ingrid thulin's unsuccessful attempt to imitate lisa minelli's musical numbers from cabaret all in all salon kitty is failure although with some very interesting moments\n"
     ]
    }
   ],
   "source": [
    "print(' '.join(incorrect_examples_raw[0]))"
   ]
  },
  {
   "cell_type": "markdown",
   "metadata": {},
   "source": [
    "#### Analysis\n",
    "\n",
    "The true label here is -1 which means the model predicted this as a positive review. Looking at the feature importance we see that many words that we would consider neutral contributed greatly to the positive clasification. These words include \"and\", \"is\", and \"the\". A possible explanation is that, by chance, these words have a small positive weight in the weight vector. However, since they are so common, their effects accumulate and eventually dominate the classification especially in longer reviews such as this one. In fact, let's look at the weight of some of these words in the weight vector."
   ]
  },
  {
   "cell_type": "code",
   "execution_count": 207,
   "metadata": {},
   "outputs": [
    {
     "name": "stdout",
     "output_type": "stream",
     "text": [
      "0.015632716850917223\n",
      "0.02839816288607632\n",
      "0.003166361525456027\n",
      "-0.1164499223667763\n"
     ]
    }
   ],
   "source": [
    "print(w['as'])\n",
    "print(w['is'])\n",
    "print(w['the'])\n",
    "print(w['bad'])"
   ]
  },
  {
   "cell_type": "markdown",
   "metadata": {},
   "source": [
    "As we can see, these words have much smaller weights especially when compared to a more strongly polarized word such as \"bad\". Removal of these common words (\"stopwords\") could helpin improving the model.\n",
    "\n",
    "Another thing to note is the strong positive contribution by the word \"very\". It is probably true that, in general, the word \"very\" is used in a positive manner. However in this review at one point it is preceded by a \"not\". Introducing bigrams may give the model some more context into how the words were used and increase performance."
   ]
  },
  {
   "cell_type": "markdown",
   "metadata": {},
   "source": [
    "\\newpage"
   ]
  },
  {
   "cell_type": "markdown",
   "metadata": {},
   "source": [
    "#### Second example"
   ]
  },
  {
   "cell_type": "code",
   "execution_count": 222,
   "metadata": {},
   "outputs": [
    {
     "name": "stdout",
     "output_type": "stream",
     "text": [
      "True label was -1\n"
     ]
    },
    {
     "data": {
      "text/html": [
       "<div>\n",
       "<style scoped>\n",
       "    .dataframe tbody tr th:only-of-type {\n",
       "        vertical-align: middle;\n",
       "    }\n",
       "\n",
       "    .dataframe tbody tr th {\n",
       "        vertical-align: top;\n",
       "    }\n",
       "\n",
       "    .dataframe thead th {\n",
       "        text-align: right;\n",
       "    }\n",
       "</style>\n",
       "<table border=\"1\" class=\"dataframe\">\n",
       "  <thead>\n",
       "    <tr style=\"text-align: right;\">\n",
       "      <th></th>\n",
       "      <th>0</th>\n",
       "      <th>1</th>\n",
       "    </tr>\n",
       "  </thead>\n",
       "  <tbody>\n",
       "    <tr>\n",
       "      <th>0</th>\n",
       "      <td>and</td>\n",
       "      <td>0.278790</td>\n",
       "    </tr>\n",
       "    <tr>\n",
       "      <th>1</th>\n",
       "      <td>is</td>\n",
       "      <td>0.198787</td>\n",
       "    </tr>\n",
       "    <tr>\n",
       "      <th>2</th>\n",
       "      <td>be</td>\n",
       "      <td>-0.133782</td>\n",
       "    </tr>\n",
       "    <tr>\n",
       "      <th>3</th>\n",
       "      <td>with</td>\n",
       "      <td>0.118904</td>\n",
       "    </tr>\n",
       "    <tr>\n",
       "      <th>4</th>\n",
       "      <td>on</td>\n",
       "      <td>-0.093114</td>\n",
       "    </tr>\n",
       "    <tr>\n",
       "      <th>5</th>\n",
       "      <td>this</td>\n",
       "      <td>-0.092986</td>\n",
       "    </tr>\n",
       "    <tr>\n",
       "      <th>6</th>\n",
       "      <td>from</td>\n",
       "      <td>0.086779</td>\n",
       "    </tr>\n",
       "    <tr>\n",
       "      <th>7</th>\n",
       "      <td>to</td>\n",
       "      <td>-0.082314</td>\n",
       "    </tr>\n",
       "    <tr>\n",
       "      <th>8</th>\n",
       "      <td>or</td>\n",
       "      <td>-0.071262</td>\n",
       "    </tr>\n",
       "    <tr>\n",
       "      <th>9</th>\n",
       "      <td>a</td>\n",
       "      <td>0.065479</td>\n",
       "    </tr>\n",
       "    <tr>\n",
       "      <th>10</th>\n",
       "      <td>the</td>\n",
       "      <td>0.063327</td>\n",
       "    </tr>\n",
       "    <tr>\n",
       "      <th>11</th>\n",
       "      <td>enough</td>\n",
       "      <td>-0.061673</td>\n",
       "    </tr>\n",
       "    <tr>\n",
       "      <th>12</th>\n",
       "      <td>?</td>\n",
       "      <td>-0.059773</td>\n",
       "    </tr>\n",
       "    <tr>\n",
       "      <th>13</th>\n",
       "      <td>last</td>\n",
       "      <td>-0.057795</td>\n",
       "    </tr>\n",
       "    <tr>\n",
       "      <th>14</th>\n",
       "      <td>an</td>\n",
       "      <td>-0.051053</td>\n",
       "    </tr>\n",
       "  </tbody>\n",
       "</table>\n",
       "</div>"
      ],
      "text/plain": [
       "         0         1\n",
       "0      and  0.278790\n",
       "1       is  0.198787\n",
       "2       be -0.133782\n",
       "3     with  0.118904\n",
       "4       on -0.093114\n",
       "5     this -0.092986\n",
       "6     from  0.086779\n",
       "7       to -0.082314\n",
       "8       or -0.071262\n",
       "9        a  0.065479\n",
       "10     the  0.063327\n",
       "11  enough -0.061673\n",
       "12       ? -0.059773\n",
       "13    last -0.057795\n",
       "14      an -0.051053"
      ]
     },
     "execution_count": 222,
     "metadata": {},
     "output_type": "execute_result"
    }
   ],
   "source": [
    "feature_importances_2 = get_feature_importances(incorrect_examples[15], w)\n",
    "print(\"True label was {}\".format(y_true_incorrect[15]))\n",
    "feature_importances_2[:15]"
   ]
  },
  {
   "cell_type": "code",
   "execution_count": 220,
   "metadata": {},
   "outputs": [
    {
     "name": "stdout",
     "output_type": "stream",
     "text": [
      "silly performances and some huge gaps in logic mar an otherwise interesting tale of an eclectic group of people stranded at the last stop cafe and motel due to heavy snowfall one of the stranded is a colorado state highway patrolman adam beach who discovers a murder scene and a bag full of cash from a recent bank robbery someone amongst the group of strangers is a bank robber and a murderer but is it the same person or are there multiple criminals ? adam beach unfortunately was the wrong choice for the lead in this film he doesn't play the role with enough seriousness to be believable or enough goofiness for it to be funny his performance is stuck somewhere in the middle and this film really needed it to be on one side or the other rose mcgowan is cold and unpleasant to the eye as always and jurgen prochnow what on earth is he doing in this ? best performance comes from william s taylor as a cheesy yet still somehow cool and confident wayne newton drifter type the last stop is available on dvd from sterling home entertainment as usual with sterling they've filled out this dvd with extra features the disc contains the film in its original aspect ratio of 1 85 1 a choice of 2 0 dolby surround sound or 5 1 dolby digital surround sound a full length audio commentary track with director mark malone interviews with the cast and crew the original trailer and the usual cast and crew biographies the film itself might not be the greatest but sterling's effort of adding decent extra features while keeping the price affordable suggested retail of 19 95 makes this dvd worth the money r\n"
     ]
    }
   ],
   "source": [
    "print(' '.join(incorrect_examples_raw[15]))"
   ]
  },
  {
   "cell_type": "markdown",
   "metadata": {},
   "source": [
    "#### Analysis\n",
    "Again we see strong contributions by common, neutral words such as \"and\", \"is\", and \"with\". One thing I noticed is that many of these incorrectly classified examples are very long. It appears that the model has a hard time classifying long reviews due to the large number of these common words. The prediction is dominated by whatever direction these words just happen to point. Again, removal of stopwords could help here."
   ]
  },
  {
   "cell_type": "code",
   "execution_count": null,
   "metadata": {},
   "outputs": [],
   "source": []
  }
 ],
 "metadata": {
  "kernelspec": {
   "display_name": "Python [conda env:ml]",
   "language": "python",
   "name": "conda-env-ml-py"
  },
  "language_info": {
   "codemirror_mode": {
    "name": "ipython",
    "version": 3
   },
   "file_extension": ".py",
   "mimetype": "text/x-python",
   "name": "python",
   "nbconvert_exporter": "python",
   "pygments_lexer": "ipython3",
   "version": "3.6.8"
  }
 },
 "nbformat": 4,
 "nbformat_minor": 2
}
