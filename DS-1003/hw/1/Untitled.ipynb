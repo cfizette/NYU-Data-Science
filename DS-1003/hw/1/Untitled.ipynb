{
 "cells": [
  {
   "cell_type": "code",
   "execution_count": 1,
   "metadata": {},
   "outputs": [],
   "source": [
    "from hw1_code import *\n",
    "import pandas as pd\n",
    "import numpy as np\n",
    "import matplotlib.pyplot as plt\n",
    "from sklearn.linear_model import LinearRegression"
   ]
  },
  {
   "cell_type": "code",
   "execution_count": null,
   "metadata": {},
   "outputs": [],
   "source": []
  },
  {
   "cell_type": "code",
   "execution_count": 2,
   "metadata": {},
   "outputs": [],
   "source": [
    "X = np.random.randn(100).reshape((100,1))"
   ]
  },
  {
   "cell_type": "code",
   "execution_count": 3,
   "metadata": {},
   "outputs": [],
   "source": [
    "X = np.hstack((np.ones((100,1)), X))"
   ]
  },
  {
   "cell_type": "code",
   "execution_count": 4,
   "metadata": {},
   "outputs": [],
   "source": [
    "y_rand = np.random.randn(100)"
   ]
  },
  {
   "cell_type": "code",
   "execution_count": 5,
   "metadata": {},
   "outputs": [],
   "source": [
    "y = 3*X[:,1] + y_rand + 2"
   ]
  },
  {
   "cell_type": "code",
   "execution_count": 6,
   "metadata": {},
   "outputs": [
    {
     "data": {
      "text/plain": [
       "<matplotlib.collections.PathCollection at 0x7fc860bc40b8>"
      ]
     },
     "execution_count": 6,
     "metadata": {},
     "output_type": "execute_result"
    },
    {
     "data": {
      "image/png": "[encoded data removed]",
      "text/plain": [
       "<Figure size 432x288 with 1 Axes>"
      ]
     },
     "metadata": {
      "needs_background": "light"
     },
     "output_type": "display_data"
    }
   ],
   "source": [
    "plt.scatter(X[:,1], y)"
   ]
  },
  {
   "cell_type": "code",
   "execution_count": 7,
   "metadata": {},
   "outputs": [],
   "source": [
    "theta_hist, loss_hist = backtracking_line_search(X, y, b=0.1)"
   ]
  },
  {
   "cell_type": "code",
   "execution_count": 8,
   "metadata": {},
   "outputs": [
    {
     "data": {
      "text/plain": [
       "14.683027200521478"
      ]
     },
     "execution_count": 8,
     "metadata": {},
     "output_type": "execute_result"
    }
   ],
   "source": [
    "loss_hist[1]"
   ]
  },
  {
   "cell_type": "code",
   "execution_count": 9,
   "metadata": {},
   "outputs": [
    {
     "data": {
      "text/plain": [
       "13.933592382723274"
      ]
     },
     "execution_count": 9,
     "metadata": {},
     "output_type": "execute_result"
    }
   ],
   "source": [
    "loss_hist[2]"
   ]
  },
  {
   "cell_type": "code",
   "execution_count": 13,
   "metadata": {},
   "outputs": [
    {
     "data": {
      "text/plain": [
       "[<matplotlib.lines.Line2D at 0x7fc85e222b38>]"
      ]
     },
     "execution_count": 13,
     "metadata": {},
     "output_type": "execute_result"
    },
    {
     "data": {
      "image/png": "[encoded data removed]",
      "text/plain": [
       "<Figure size 432x288 with 1 Axes>"
      ]
     },
     "metadata": {
      "needs_background": "light"
     },
     "output_type": "display_data"
    }
   ],
   "source": [
    "plt.plot(loss_hist)\n"
   ]
  },
  {
   "cell_type": "code",
   "execution_count": 14,
   "metadata": {},
   "outputs": [],
   "source": [
    "y_pred = np.matmul(X, theta_hist[-1])"
   ]
  },
  {
   "cell_type": "code",
   "execution_count": 15,
   "metadata": {},
   "outputs": [
    {
     "data": {
      "text/plain": [
       "[<matplotlib.lines.Line2D at 0x7fc85e1e8160>]"
      ]
     },
     "execution_count": 15,
     "metadata": {},
     "output_type": "execute_result"
    },
    {
     "data": {
      "image/png": "[encoded data removed]",
      "text/plain": [
       "<Figure size 432x288 with 1 Axes>"
      ]
     },
     "metadata": {
      "needs_background": "light"
     },
     "output_type": "display_data"
    }
   ],
   "source": [
    "plt.scatter(X[:,1], y)\n",
    "plt.plot(X[:,1], y_pred)"
   ]
  },
  {
   "cell_type": "code",
   "execution_count": null,
   "metadata": {},
   "outputs": [],
   "source": []
  },
  {
   "cell_type": "code",
   "execution_count": null,
   "metadata": {},
   "outputs": [],
   "source": []
  },
  {
   "cell_type": "code",
   "execution_count": null,
   "metadata": {},
   "outputs": [],
   "source": []
  },
  {
   "cell_type": "code",
   "execution_count": null,
   "metadata": {},
   "outputs": [],
   "source": []
  },
  {
   "cell_type": "code",
   "execution_count": 26,
   "metadata": {},
   "outputs": [],
   "source": [
    "train = pd.read_csv('data.csv').values"
   ]
  },
  {
   "cell_type": "code",
   "execution_count": 28,
   "metadata": {},
   "outputs": [
    {
     "data": {
      "text/plain": [
       "array([-1.37657523,  0.87878245,  1.10870068,  0.51922907,  0.77287228,\n",
       "       -1.91105204, -3.34526159, -2.14959964,  0.43994086, -2.38611859,\n",
       "       -1.88082819, -3.83638829, -2.82605222, -4.57570986, -2.82253862,\n",
       "       -3.4037511 , -2.04233946, -1.97576036, -1.81276409, -2.33420095,\n",
       "       -1.07036941, -1.29609291, -1.60157351, -2.95765686, -2.3569631 ,\n",
       "       -0.97424806, -2.21752267, -3.60524511, -2.40339873, -2.19008421,\n",
       "       -1.71315985, -1.08626739, -1.11687179, -1.6364861 , -2.30265981,\n",
       "       -0.28615609, -1.09713606, -2.79297326, -0.04223345,  1.02151039,\n",
       "       -0.17286848,  1.35785179,  3.36768284,  4.90551787,  5.00093088,\n",
       "        3.94312311,  2.63275021,  3.61212367,  3.59499437,  2.27156387,\n",
       "        3.63661671,  4.0221    ,  2.23386039,  0.53971941,  2.19034126,\n",
       "        1.64201394,  0.56012749,  1.65529714,  0.19682524, -1.07263709,\n",
       "       -0.76030728, -1.37630615, -0.54946543, -1.11729565, -1.1997775 ,\n",
       "       -0.77838414,  0.81091383,  2.34013092,  1.61881067,  1.27360956,\n",
       "        1.32792934, -1.96541891,  0.08326159,  2.43938702, -0.0753373 ,\n",
       "       -2.50372482, -1.42537105, -1.17918737, -2.98080986, -2.02132147,\n",
       "       -1.04556816, -2.73827334, -2.65157548, -1.77381323, -2.50223454,\n",
       "       -2.58186731, -1.5461558 , -0.40093671, -2.80992306, -4.79435919,\n",
       "       -3.34199858, -3.94274589, -3.81318257, -1.56933449, -2.4733757 ,\n",
       "       -3.01592997, -0.47343601,  0.91611135, -2.31118974,  0.82405305,\n",
       "       -2.02025154,  0.43295691,  1.20885971,  0.11072133, -1.10955131,\n",
       "        1.14004574,  0.22826982,  0.04897365, -0.75247436, -0.69631684,\n",
       "       -1.68263661,  0.01242233, -0.60886527, -1.24013089,  1.77029229,\n",
       "       -0.34722956, -0.15195737,  0.68978008,  0.64912074,  1.15795713,\n",
       "        1.37070312,  0.38091495,  1.46256095,  7.25025262,  6.3233524 ,\n",
       "        6.58813271,  3.53021594,  4.88858099,  4.50269335,  1.79293615,\n",
       "        1.63837478,  3.08832928,  1.76617561,  1.40554021,  0.2785769 ,\n",
       "        1.26370085,  1.24245036,  0.78092277,  2.73776133,  3.16804127,\n",
       "        2.88261376,  3.30219666,  4.62920495,  4.38447731, -0.84531072,\n",
       "       -2.64503524, -2.56092793, -2.25509181, -2.5520492 , -4.44969556,\n",
       "       -4.51006402, -4.06896259, -3.37386281, -1.08565422, -4.83147353,\n",
       "       -4.23020189, -5.12864687, -5.70530859, -6.25076628, -2.85695809,\n",
       "       -4.00773921,  0.48569964, -1.45941462, -0.33615524, -1.00572379,\n",
       "        0.40952605, -0.47928253,  0.29884947,  0.91950092,  1.87856314,\n",
       "        1.77084075,  1.30756788,  1.35519387,  0.78185026,  2.99357709,\n",
       "        1.47465429,  1.4317529 ,  2.48052193,  1.31135789,  0.76990084,\n",
       "        3.74271571,  2.37074104,  1.02471557,  3.70443247,  2.22515588,\n",
       "        3.50612836,  1.43620799,  2.0695775 ,  4.26137756,  4.73657935,\n",
       "        1.02068524,  1.60681512,  1.4838342 ,  3.44643858,  0.26519208,\n",
       "        2.50356596,  2.41424956,  3.37935567,  2.46885009,  3.96120935])"
      ]
     },
     "execution_count": 28,
     "metadata": {},
     "output_type": "execute_result"
    }
   ],
   "source": [
    "train[:,-1]"
   ]
  },
  {
   "cell_type": "code",
   "execution_count": 19,
   "metadata": {},
   "outputs": [],
   "source": [
    "cols_to_delete = np.all(train==train[0,:], axis=0)\n"
   ]
  },
  {
   "cell_type": "code",
   "execution_count": 20,
   "metadata": {},
   "outputs": [],
   "source": [
    "cols_to_delete = np.argwhere(cols_to_delete==True)\n"
   ]
  },
  {
   "cell_type": "code",
   "execution_count": 21,
   "metadata": {},
   "outputs": [],
   "source": [
    "train = np.delete(train, cols_to_delete, 1)"
   ]
  },
  {
   "cell_type": "code",
   "execution_count": 25,
   "metadata": {},
   "outputs": [
    {
     "data": {
      "text/plain": [
       "array([ 1.00000000e+00,  1.00000000e+00,  1.00000000e+00,  1.00000000e+00,\n",
       "        1.00000000e+00,  1.00000000e+00,  1.00000000e+00,  1.00000000e+00,\n",
       "        1.00000000e+00,  1.00000000e+00,  1.00000000e+00,  1.00000000e+00,\n",
       "        1.00000000e+00,  1.00000000e+00,  1.00000000e+00,  1.00000000e+00,\n",
       "        1.00000000e+00,  1.00000000e+00,  8.68151497e-01,  8.68151497e-01,\n",
       "        4.34075748e+00,  9.99994877e-01,  9.99994877e-01,  4.99997438e+00,\n",
       "        9.50262073e-01,  9.50262073e-01,  4.75131036e+00,  8.64956439e-01,\n",
       "        8.64956439e-01,  4.32478220e+00,  7.80689730e-01,  7.80689730e-01,\n",
       "        3.90344865e+00, -4.26796131e-03, -4.26796131e-03, -2.13398065e-02,\n",
       "       -3.20097523e-03, -3.20097523e-03, -1.60048762e-02, -2.56078176e-03,\n",
       "       -2.56078176e-03, -1.28039088e-02, -2.13398551e-03, -2.13398551e-03,\n",
       "       -1.06699276e-02, -1.82913081e-03, -1.82913081e-03, -9.14565404e-03,\n",
       "        3.96120935e+00])"
      ]
     },
     "execution_count": 25,
     "metadata": {},
     "output_type": "execute_result"
    }
   ],
   "source": [
    "train[-1]"
   ]
  },
  {
   "cell_type": "code",
   "execution_count": null,
   "metadata": {},
   "outputs": [],
   "source": []
  }
 ],
 "metadata": {
  "kernelspec": {
   "display_name": "Python [conda env:ml]",
   "language": "python",
   "name": "conda-env-ml-py"
  },
  "language_info": {
   "codemirror_mode": {
    "name": "ipython",
    "version": 3
   },
   "file_extension": ".py",
   "mimetype": "text/x-python",
   "name": "python",
   "nbconvert_exporter": "python",
   "pygments_lexer": "ipython3",
   "version": "3.6.8"
  }
 },
 "nbformat": 4,
 "nbformat_minor": 2
}
